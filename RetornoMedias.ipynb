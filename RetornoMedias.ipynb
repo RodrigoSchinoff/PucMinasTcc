{
 "cells": [
  {
   "cell_type": "code",
   "execution_count": 1,
   "metadata": {},
   "outputs": [],
   "source": [
    "import pandas as pd\n",
    "import datetime\n",
    "\n",
    "df = pd.read_excel('/PETR4_5Minutos.xlsx',usecols=\"A,B,E,F,G\")\n",
    "\n",
    "def GeraDataFrame(): \n",
    "    df['Hora'] = pd.to_datetime(df['Data Hora']).dt.time\n",
    "    df['Data'] = pd.to_datetime(df['Data Hora']).dt.date\n",
    "    df['Perc'] = df['Fechamento'] / df['Média Móvel E [17]']\n",
    "    \n",
    "    pd.set_option('display.max_columns', None)\n",
    "    pd.set_option('display.max_rows', None)\n",
    "\n",
    "\n",
    "def GeraClassificacao():\n",
    "    vData = '2020-01-01'\n",
    "    vLonge = 'N'\n",
    "    vVoltou = 'N'\n",
    "    vIndexLonge = 0\n",
    "\n",
    "    for index, row in df[::-1].iterrows():\n",
    "        \n",
    "        if vData != row['Data'] and vLonge == 'S' and vVoltou == 'N':\n",
    "            df.loc[vIndexLonge, 'AbriuLongeMedia'] = ''\n",
    "        \n",
    "        \n",
    "        if row['Hora'] <= datetime.time(hour=10, minute= 15) and vData != row['Data']: \n",
    "            if (row['Perc'] >= 1.01 or row['Perc'] <= 0.99):\n",
    "                df.loc[index, 'AbriuLongeMedia'] = 'S'\n",
    "                vIndexLonge = index\n",
    "                vData = row['Data']\n",
    "                vLonge = 'S'\n",
    "                vVoltou = 'N'\n",
    "                df.loc[index, 'RetornouMedia'] = ''  \n",
    "                \n",
    "        elif row['Hora'] <= datetime.time(hour=10, minute= 55) and vData == row['Data']:\n",
    "            if vLonge == 'S' and vVoltou == 'N' and (row['Perc'] < 1.01 and row['Perc'] > 0.99):\n",
    "                df.loc[index, 'RetornouMedia'] = 'S'\n",
    "                vVoltou = 'S'\n",
    "                df.loc[index, 'AbriuLongeMedia'] = ''\n",
    "                \n",
    "        else:\n",
    "            df.loc[index, 'AbriuLongeMedia'] = ''\n",
    "            df.loc[index, 'RetornouMedia'] = ''\n",
    "            \n",
    "\n",
    "def RetornoMedias():\n",
    "    print(df.query('AbriuLongeMedia == \"S\" or RetornouMedia == \"S\"'))\n",
    "    \n",
    "\n",
    "GeraDataFrame()\n",
    "GeraClassificacao()\n",
    "RetornoMedias()\n",
    "\n"
   ]
  }
 ],
 "metadata": {
  "kernelspec": {
   "display_name": "Python 3",
   "language": "python",
   "name": "python3"
  },
  "language_info": {
   "codemirror_mode": {
    "name": "ipython",
    "version": 3
   },
   "file_extension": ".py",
   "mimetype": "text/x-python",
   "name": "python",
   "nbconvert_exporter": "python",
   "pygments_lexer": "ipython3",
   "version": "3.7.4"
  }
 },
 "nbformat": 4,
 "nbformat_minor": 2
}
